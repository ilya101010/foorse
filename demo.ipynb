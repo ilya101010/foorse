{
 "cells": [
  {
   "cell_type": "code",
   "execution_count": 1,
   "metadata": {
    "slideshow": {
     "slide_type": "subslide"
    }
   },
   "outputs": [
    {
     "name": "stdout",
     "output_type": "stream",
     "text": [
      "4\n"
     ]
    }
   ],
   "source": [
    "from forms.generic_parser import GenericParser\n",
    "import pandas as pd\n",
    "import code \n",
    "import ai.ai_utils\n",
    "df = pd.read_html('~/devel/VPOparsing/vpo2_new2022_html/СВОД_ВПО-2_ВСЕГО.html')[5]\n",
    "df = df.dropna(how='all')\n",
    "df = df.replace('', float('NaN')).dropna(axis=1, how='all').reset_index(drop=True)"
   ]
  },
  {
   "cell_type": "code",
   "execution_count": 1,
   "metadata": {},
   "outputs": [],
   "source": [
    "GP = GenericParser(df, generate_title_id=)"
   ]
  },
  {
   "cell_type": "code",
   "execution_count": 4,
   "metadata": {},
   "outputs": [
    {
     "data": {
      "text/plain": [
       "['Всего',\n",
       " 'Раздел 2. Информационная база',\n",
       " '2.1. Количество персональных компьютеров и информационного оборудования (на конец отчетного года)',\n",
       " 'Код по ОКЕИ: штука - 796']"
      ]
     },
     "execution_count": 4,
     "metadata": {},
     "output_type": "execute_result"
    }
   ],
   "source": [
    "table_tags"
   ]
  },
  {
   "cell_type": "code",
   "execution_count": null,
   "metadata": {},
   "outputs": [],
   "source": []
  }
 ],
 "metadata": {
  "kernelspec": {
   "display_name": "venv",
   "language": "python",
   "name": "python3"
  },
  "language_info": {
   "codemirror_mode": {
    "name": "ipython",
    "version": 3
   },
   "file_extension": ".py",
   "mimetype": "text/x-python",
   "name": "python",
   "nbconvert_exporter": "python",
   "pygments_lexer": "ipython3",
   "version": "3.12.3"
  }
 },
 "nbformat": 4,
 "nbformat_minor": 2
}
